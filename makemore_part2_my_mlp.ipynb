{
 "cells": [
  {
   "cell_type": "code",
   "execution_count": 1,
   "metadata": {},
   "outputs": [],
   "source": [
    "import torch\n",
    "import numpy as np\n",
    "import torch.nn.functional as F\n",
    "from torch.utils.data import TensorDataset, DataLoader\n",
    "import matplotlib.pyplot as plt\n",
    "import pandas as pd\n",
    "import random\n",
    "from IPython.display import display, clear_output\n",
    "%matplotlib inline"
   ]
  },
  {
   "cell_type": "code",
   "execution_count": 2,
   "metadata": {},
   "outputs": [
    {
     "data": {
      "text/html": [
       "<div>\n",
       "<style scoped>\n",
       "    .dataframe tbody tr th:only-of-type {\n",
       "        vertical-align: middle;\n",
       "    }\n",
       "\n",
       "    .dataframe tbody tr th {\n",
       "        vertical-align: top;\n",
       "    }\n",
       "\n",
       "    .dataframe thead th {\n",
       "        text-align: right;\n",
       "    }\n",
       "</style>\n",
       "<table border=\"1\" class=\"dataframe\">\n",
       "  <thead>\n",
       "    <tr style=\"text-align: right;\">\n",
       "      <th>:</th>\n",
       "      <th>0.200</th>\n",
       "      <th>0.884</th>\n",
       "      <th>0.234</th>\n",
       "      <th>0.366</th>\n",
       "      <th>0.051</th>\n",
       "      <th>0.809</th>\n",
       "      <th>0.638</th>\n",
       "    </tr>\n",
       "  </thead>\n",
       "  <tbody>\n",
       "  </tbody>\n",
       "</table>\n",
       "</div>"
      ],
      "text/plain": [
       "Empty DataFrame\n",
       "Columns: [0.20000000298023224, 0.8840000033378601, 0.23399999737739563, 0.3659999966621399, 0.050999999046325684, 0.8090000152587891, 0.6380000114440918]\n",
       "Index: []"
      ]
     },
     "metadata": {},
     "output_type": "display_data"
    }
   ],
   "source": [
    "def vis(t: torch.Tensor, label=''):\n",
    "    data = t.detach().numpy()\n",
    "    data = data.round(3)\n",
    "    df = pd.DataFrame(columns=data) if t.ndim == 1 else pd.DataFrame(data)\n",
    "    df.columns.name = label+':'\n",
    "    # df = df.style.set_table_styles([{'selector': 'th', 'props': [('font-weight', 'normal')]}])\n",
    "    display(df)\n",
    "\n",
    "vis(torch.rand(7))"
   ]
  },
  {
   "cell_type": "code",
   "execution_count": 3,
   "metadata": {},
   "outputs": [
    {
     "name": "stdout",
     "output_type": "stream",
     "text": [
      "32033 words\n",
      "min word length: 2\n",
      "max word length: 15\n",
      "['emma', 'olivia', 'ava', 'isabella', 'sophia', 'charlotte', 'mia', 'amelia', 'harper', 'evelyn']\n"
     ]
    }
   ],
   "source": [
    "words = open('names.txt', 'r').read().splitlines()\n",
    "print(f'{len(words)} words')\n",
    "print(f'min word length: {min(len(w) for w in words)}')\n",
    "print(f'max word length: {max(len(w) for w in words)}')\n",
    "print(words[:10])"
   ]
  },
  {
   "cell_type": "code",
   "execution_count": 4,
   "metadata": {},
   "outputs": [
    {
     "name": "stdout",
     "output_type": "stream",
     "text": [
      "{'a': 1, 'b': 2, 'c': 3, 'd': 4, 'e': 5, 'f': 6, 'g': 7, 'h': 8, 'i': 9, 'j': 10, 'k': 11, 'l': 12, 'm': 13, 'n': 14, 'o': 15, 'p': 16, 'q': 17, 'r': 18, 's': 19, 't': 20, 'u': 21, 'v': 22, 'w': 23, 'x': 24, 'y': 25, 'z': 26, '.': 0}\n",
      "{1: 'a', 2: 'b', 3: 'c', 4: 'd', 5: 'e', 6: 'f', 7: 'g', 8: 'h', 9: 'i', 10: 'j', 11: 'k', 12: 'l', 13: 'm', 14: 'n', 15: 'o', 16: 'p', 17: 'q', 18: 'r', 19: 's', 20: 't', 21: 'u', 22: 'v', 23: 'w', 24: 'x', 25: 'y', 26: 'z', 0: '.'}\n"
     ]
    }
   ],
   "source": [
    "chars = sorted(list(set(''.join(words))))\n",
    "stoi = {s:i+1 for i,s in enumerate(chars)}\n",
    "stoi['.'] = 0\n",
    "itos = {i:s for s,i in stoi.items()}\n",
    "\n",
    "print(stoi)\n",
    "print(itos)"
   ]
  },
  {
   "cell_type": "code",
   "execution_count": 5,
   "metadata": {},
   "outputs": [
    {
     "name": "stdout",
     "output_type": "stream",
     "text": [
      "torch.Size([182625, 3]) torch.Size([182625])\n",
      "torch.Size([22655, 3]) torch.Size([22655])\n",
      "torch.Size([22866, 3]) torch.Size([22866])\n"
     ]
    },
    {
     "data": {
      "text/html": [
       "<div>\n",
       "<style scoped>\n",
       "    .dataframe tbody tr th:only-of-type {\n",
       "        vertical-align: middle;\n",
       "    }\n",
       "\n",
       "    .dataframe tbody tr th {\n",
       "        vertical-align: top;\n",
       "    }\n",
       "\n",
       "    .dataframe thead th {\n",
       "        text-align: right;\n",
       "    }\n",
       "</style>\n",
       "<table border=\"1\" class=\"dataframe\">\n",
       "  <thead>\n",
       "    <tr style=\"text-align: right;\">\n",
       "      <th>:</th>\n",
       "      <th>0</th>\n",
       "      <th>1</th>\n",
       "      <th>2</th>\n",
       "    </tr>\n",
       "  </thead>\n",
       "  <tbody>\n",
       "    <tr>\n",
       "      <th>0</th>\n",
       "      <td>0</td>\n",
       "      <td>0</td>\n",
       "      <td>0</td>\n",
       "    </tr>\n",
       "    <tr>\n",
       "      <th>1</th>\n",
       "      <td>0</td>\n",
       "      <td>0</td>\n",
       "      <td>25</td>\n",
       "    </tr>\n",
       "    <tr>\n",
       "      <th>2</th>\n",
       "      <td>0</td>\n",
       "      <td>25</td>\n",
       "      <td>21</td>\n",
       "    </tr>\n",
       "    <tr>\n",
       "      <th>3</th>\n",
       "      <td>25</td>\n",
       "      <td>21</td>\n",
       "      <td>8</td>\n",
       "    </tr>\n",
       "    <tr>\n",
       "      <th>4</th>\n",
       "      <td>21</td>\n",
       "      <td>8</td>\n",
       "      <td>5</td>\n",
       "    </tr>\n",
       "    <tr>\n",
       "      <th>...</th>\n",
       "      <td>...</td>\n",
       "      <td>...</td>\n",
       "      <td>...</td>\n",
       "    </tr>\n",
       "    <tr>\n",
       "      <th>182620</th>\n",
       "      <td>0</td>\n",
       "      <td>8</td>\n",
       "      <td>15</td>\n",
       "    </tr>\n",
       "    <tr>\n",
       "      <th>182621</th>\n",
       "      <td>8</td>\n",
       "      <td>15</td>\n",
       "      <td>12</td>\n",
       "    </tr>\n",
       "    <tr>\n",
       "      <th>182622</th>\n",
       "      <td>15</td>\n",
       "      <td>12</td>\n",
       "      <td>4</td>\n",
       "    </tr>\n",
       "    <tr>\n",
       "      <th>182623</th>\n",
       "      <td>12</td>\n",
       "      <td>4</td>\n",
       "      <td>1</td>\n",
       "    </tr>\n",
       "    <tr>\n",
       "      <th>182624</th>\n",
       "      <td>4</td>\n",
       "      <td>1</td>\n",
       "      <td>14</td>\n",
       "    </tr>\n",
       "  </tbody>\n",
       "</table>\n",
       "<p>182625 rows × 3 columns</p>\n",
       "</div>"
      ],
      "text/plain": [
       ":        0   1   2\n",
       "0        0   0   0\n",
       "1        0   0  25\n",
       "2        0  25  21\n",
       "3       25  21   8\n",
       "4       21   8   5\n",
       "...     ..  ..  ..\n",
       "182620   0   8  15\n",
       "182621   8  15  12\n",
       "182622  15  12   4\n",
       "182623  12   4   1\n",
       "182624   4   1  14\n",
       "\n",
       "[182625 rows x 3 columns]"
      ]
     },
     "metadata": {},
     "output_type": "display_data"
    },
    {
     "data": {
      "text/html": [
       "<div>\n",
       "<style scoped>\n",
       "    .dataframe tbody tr th:only-of-type {\n",
       "        vertical-align: middle;\n",
       "    }\n",
       "\n",
       "    .dataframe tbody tr th {\n",
       "        vertical-align: top;\n",
       "    }\n",
       "\n",
       "    .dataframe thead th {\n",
       "        text-align: right;\n",
       "    }\n",
       "</style>\n",
       "<table border=\"1\" class=\"dataframe\">\n",
       "  <thead>\n",
       "    <tr style=\"text-align: right;\">\n",
       "      <th>:</th>\n",
       "      <th>25</th>\n",
       "      <th>21</th>\n",
       "      <th>8</th>\n",
       "      <th>5</th>\n",
       "      <th>14</th>\n",
       "      <th>7</th>\n",
       "      <th>0</th>\n",
       "      <th>4</th>\n",
       "      <th>9</th>\n",
       "      <th>15</th>\n",
       "      <th>...</th>\n",
       "      <th>5</th>\n",
       "      <th>12</th>\n",
       "      <th>0</th>\n",
       "      <th>8</th>\n",
       "      <th>15</th>\n",
       "      <th>12</th>\n",
       "      <th>4</th>\n",
       "      <th>1</th>\n",
       "      <th>14</th>\n",
       "      <th>0</th>\n",
       "    </tr>\n",
       "  </thead>\n",
       "  <tbody>\n",
       "  </tbody>\n",
       "</table>\n",
       "<p>0 rows × 182625 columns</p>\n",
       "</div>"
      ],
      "text/plain": [
       "Empty DataFrame\n",
       "Columns: [25, 21, 8, 5, 14, 7, 0, 4, 9, 15, 14, 4, 18, 5, 0, 24, 1, 22, 9, 5, 14, 0, 10, 15, 18, 9, 0, 10, 21, 1, 14, 12, 21, 9, 19, 0, 5, 18, 1, 14, 4, 9, 0, 16, 8, 9, 1, 0, 19, 1, 13, 1, 20, 8, 1, 0, 16, 8, 15, 5, 14, 9, 24, 0, 5, 13, 13, 5, 12, 25, 14, 14, 0, 8, 15, 12, 12, 1, 14, 0, 8, 15, 12, 12, 9, 19, 0, 3, 1, 12, 12, 1, 12, 9, 12, 25, 0, 1, 4, 5, ...]\n",
       "Index: []\n",
       "\n",
       "[0 rows x 182625 columns]"
      ]
     },
     "metadata": {},
     "output_type": "display_data"
    }
   ],
   "source": [
    "# build the dataset\n",
    "block_size = 3 # context length: how many characters do we take to predict the next one?\n",
    "\n",
    "def build_dataset(words):  \n",
    "  X, Y = [], []\n",
    "  for w in words:\n",
    "\n",
    "    #print(w)\n",
    "    context = [0] * block_size\n",
    "    for ch in w + '.':\n",
    "      ix = stoi[ch]\n",
    "      X.append(context)\n",
    "      Y.append(ix)\n",
    "      #print(''.join(itos[i] for i in context), '--->', itos[ix])\n",
    "      context = context[1:] + [ix] # crop and append\n",
    "\n",
    "  X = torch.tensor(X)\n",
    "  Y = torch.tensor(Y)\n",
    "  print(X.shape, Y.shape)\n",
    "  return X, Y\n",
    "\n",
    "import random\n",
    "random.seed(42)\n",
    "random.shuffle(words)\n",
    "n1 = int(0.8*len(words))\n",
    "n2 = int(0.9*len(words))\n",
    "\n",
    "Xtr, Ytr = build_dataset(words[:n1])\n",
    "Xdev, Ydev = build_dataset(words[n1:n2])\n",
    "Xte, Yte = build_dataset(words[n2:])\n",
    "\n",
    "vis(Xtr)\n",
    "vis(Ytr)"
   ]
  },
  {
   "cell_type": "code",
   "execution_count": 6,
   "metadata": {},
   "outputs": [
    {
     "data": {
      "text/plain": [
       "182625"
      ]
     },
     "execution_count": 6,
     "metadata": {},
     "output_type": "execute_result"
    }
   ],
   "source": [
    "train_ds = TensorDataset(Xtr, Ytr)\n",
    "len(train_ds)"
   ]
  },
  {
   "cell_type": "code",
   "execution_count": 7,
   "metadata": {},
   "outputs": [
    {
     "data": {
      "text/html": [
       "<div>\n",
       "<style scoped>\n",
       "    .dataframe tbody tr th:only-of-type {\n",
       "        vertical-align: middle;\n",
       "    }\n",
       "\n",
       "    .dataframe tbody tr th {\n",
       "        vertical-align: top;\n",
       "    }\n",
       "\n",
       "    .dataframe thead th {\n",
       "        text-align: right;\n",
       "    }\n",
       "</style>\n",
       "<table border=\"1\" class=\"dataframe\">\n",
       "  <thead>\n",
       "    <tr style=\"text-align: right;\">\n",
       "      <th>:</th>\n",
       "      <th>0</th>\n",
       "      <th>1</th>\n",
       "      <th>2</th>\n",
       "      <th>3</th>\n",
       "      <th>4</th>\n",
       "      <th>5</th>\n",
       "    </tr>\n",
       "  </thead>\n",
       "  <tbody>\n",
       "    <tr>\n",
       "      <th>0</th>\n",
       "      <td>-1.385</td>\n",
       "      <td>1.104</td>\n",
       "      <td>-1.385</td>\n",
       "      <td>1.104</td>\n",
       "      <td>-1.385</td>\n",
       "      <td>1.104</td>\n",
       "    </tr>\n",
       "    <tr>\n",
       "      <th>1</th>\n",
       "      <td>-1.385</td>\n",
       "      <td>1.104</td>\n",
       "      <td>-1.385</td>\n",
       "      <td>1.104</td>\n",
       "      <td>1.048</td>\n",
       "      <td>1.769</td>\n",
       "    </tr>\n",
       "    <tr>\n",
       "      <th>2</th>\n",
       "      <td>-1.385</td>\n",
       "      <td>1.104</td>\n",
       "      <td>1.048</td>\n",
       "      <td>1.769</td>\n",
       "      <td>-0.708</td>\n",
       "      <td>-2.222</td>\n",
       "    </tr>\n",
       "    <tr>\n",
       "      <th>3</th>\n",
       "      <td>1.048</td>\n",
       "      <td>1.769</td>\n",
       "      <td>-0.708</td>\n",
       "      <td>-2.222</td>\n",
       "      <td>0.729</td>\n",
       "      <td>1.652</td>\n",
       "    </tr>\n",
       "    <tr>\n",
       "      <th>4</th>\n",
       "      <td>-0.708</td>\n",
       "      <td>-2.222</td>\n",
       "      <td>0.729</td>\n",
       "      <td>1.652</td>\n",
       "      <td>-2.235</td>\n",
       "      <td>-1.382</td>\n",
       "    </tr>\n",
       "    <tr>\n",
       "      <th>...</th>\n",
       "      <td>...</td>\n",
       "      <td>...</td>\n",
       "      <td>...</td>\n",
       "      <td>...</td>\n",
       "      <td>...</td>\n",
       "      <td>...</td>\n",
       "    </tr>\n",
       "    <tr>\n",
       "      <th>182620</th>\n",
       "      <td>-1.385</td>\n",
       "      <td>1.104</td>\n",
       "      <td>0.729</td>\n",
       "      <td>1.652</td>\n",
       "      <td>2.568</td>\n",
       "      <td>-0.907</td>\n",
       "    </tr>\n",
       "    <tr>\n",
       "      <th>182621</th>\n",
       "      <td>0.729</td>\n",
       "      <td>1.652</td>\n",
       "      <td>2.568</td>\n",
       "      <td>-0.907</td>\n",
       "      <td>-0.982</td>\n",
       "      <td>-2.024</td>\n",
       "    </tr>\n",
       "    <tr>\n",
       "      <th>182622</th>\n",
       "      <td>2.568</td>\n",
       "      <td>-0.907</td>\n",
       "      <td>-0.982</td>\n",
       "      <td>-2.024</td>\n",
       "      <td>-0.827</td>\n",
       "      <td>1.634</td>\n",
       "    </tr>\n",
       "    <tr>\n",
       "      <th>182623</th>\n",
       "      <td>-0.982</td>\n",
       "      <td>-2.024</td>\n",
       "      <td>-0.827</td>\n",
       "      <td>1.634</td>\n",
       "      <td>-0.243</td>\n",
       "      <td>0.065</td>\n",
       "    </tr>\n",
       "    <tr>\n",
       "      <th>182624</th>\n",
       "      <td>-0.827</td>\n",
       "      <td>1.634</td>\n",
       "      <td>-0.243</td>\n",
       "      <td>0.065</td>\n",
       "      <td>1.618</td>\n",
       "      <td>0.258</td>\n",
       "    </tr>\n",
       "  </tbody>\n",
       "</table>\n",
       "<p>182625 rows × 6 columns</p>\n",
       "</div>"
      ],
      "text/plain": [
       ":           0      1      2      3      4      5\n",
       "0      -1.385  1.104 -1.385  1.104 -1.385  1.104\n",
       "1      -1.385  1.104 -1.385  1.104  1.048  1.769\n",
       "2      -1.385  1.104  1.048  1.769 -0.708 -2.222\n",
       "3       1.048  1.769 -0.708 -2.222  0.729  1.652\n",
       "4      -0.708 -2.222  0.729  1.652 -2.235 -1.382\n",
       "...       ...    ...    ...    ...    ...    ...\n",
       "182620 -1.385  1.104  0.729  1.652  2.568 -0.907\n",
       "182621  0.729  1.652  2.568 -0.907 -0.982 -2.024\n",
       "182622  2.568 -0.907 -0.982 -2.024 -0.827  1.634\n",
       "182623 -0.982 -2.024 -0.827  1.634 -0.243  0.065\n",
       "182624 -0.827  1.634 -0.243  0.065  1.618  0.258\n",
       "\n",
       "[182625 rows x 6 columns]"
      ]
     },
     "metadata": {},
     "output_type": "display_data"
    }
   ],
   "source": [
    "C = torch.randn((27, 2))\n",
    "emb = C[Xtr]\n",
    "emb = emb.view(-1, emb.shape[1:].numel())\n",
    "vis(emb)"
   ]
  },
  {
   "cell_type": "code",
   "execution_count": 8,
   "metadata": {},
   "outputs": [],
   "source": [
    "epochs = 200\n",
    "epochs_list, train_losses, dev_losses = [], [], []\n",
    "\n",
    "def do_plot():\n",
    "    fig, ax = plt.subplots(figsize=(12, 6))\n",
    "    l1, = ax.plot(epochs_list, train_losses, label='train')\n",
    "    l2, = ax.plot(epochs_list, dev_losses, label='dev')\n",
    "    plt.legend()\n",
    "    plt.xlabel('EPOCH')\n",
    "    plt.ylabel('LOSS')\n",
    "    ax.set_xlim(-5, epochs + 5)\n",
    "    ax.set_ylim(1.8, 3.2)\n",
    "    plt.show()\n",
    "    return fig, ax, l1, l2"
   ]
  },
  {
   "cell_type": "code",
   "execution_count": 9,
   "metadata": {},
   "outputs": [],
   "source": [
    "def update_plot(title):\n",
    "    l1.set_data(epochs_list, train_losses)\n",
    "    l2.set_data(epochs_list, dev_losses)\n",
    "    ax.set_title(title)\n",
    "    clear_output(wait=True)\n",
    "    display(fig)"
   ]
  },
  {
   "cell_type": "code",
   "execution_count": 10,
   "metadata": {},
   "outputs": [],
   "source": [
    "def model(inputs):\n",
    "    emb = C[inputs]\n",
    "    h = torch.tanh(emb.view(-1, emb.shape[1:].numel()) @ W1 + b1)\n",
    "    logits = h @ W2 + b2\n",
    "    return logits\n",
    "\n",
    "def do_loss(inputs, targets):\n",
    "    return F.cross_entropy(model(inputs), targets)"
   ]
  },
  {
   "cell_type": "code",
   "execution_count": 11,
   "metadata": {},
   "outputs": [
    {
     "name": "stdout",
     "output_type": "stream",
     "text": [
      "NN params: 11897\n",
      "mini batches: 2854\n",
      "effective batches: 285\n"
     ]
    }
   ],
   "source": [
    "torch.manual_seed(42)\n",
    "C = torch.randn((27, 10))\n",
    "W1 = torch.randn((C.shape[1] * block_size, 200))\n",
    "b1 = torch.randn(W1.shape[1])\n",
    "W2 = torch.randn((W1.shape[1], 27))\n",
    "b2 = torch.randn(27)\n",
    "parameters = [C, W1, b1, W2, b2]\n",
    "for p in parameters: p.requires_grad = True\n",
    "print(f'NN params: {sum(p.nelement() for p in parameters)}')\n",
    "\n",
    "epochs_list, train_losses, dev_losses = [], [], []\n",
    "\n",
    "epochs = 1 + 500\n",
    "lrs = np.linspace(0.1, 0.01, epochs)\n",
    "train_dl = DataLoader(train_ds, batch_size=64, shuffle=True)\n",
    "batches = len(train_dl)\n",
    "print(f'mini batches: {batches}')\n",
    "batches_cut = int(batches * 0.8)\n",
    "print(f'effective batches: {batches_cut}')"
   ]
  },
  {
   "cell_type": "code",
   "execution_count": 12,
   "metadata": {},
   "outputs": [
    {
     "data": {
      "image/png": "[encoded data removed]",
      "text/plain": [
       "<Figure size 1200x600 with 1 Axes>"
      ]
     },
     "metadata": {},
     "output_type": "display_data"
    },
    {
     "data": {
      "text/plain": [
       "<contextlib.ExitStack at 0x31461a430>"
      ]
     },
     "execution_count": 12,
     "metadata": {},
     "output_type": "execute_result"
    }
   ],
   "source": [
    "plt.ion()\n",
    "fig, ax, l1, l2 = do_plot()\n",
    "\n",
    "for epoch in range(epochs):\n",
    "  bloss = 0.0\n",
    "  for i, (inputs, targets) in enumerate(train_dl):\n",
    "    # forward pass\n",
    "    loss = do_loss(inputs, targets)\n",
    "    bloss += loss.item()\n",
    "\n",
    "    # backward pass\n",
    "    for p in parameters: p.grad = None\n",
    "    loss.backward()\n",
    "    \n",
    "    # update\n",
    "    lr = lrs[epoch]\n",
    "    for p in parameters: p.data -= lr * p.grad\n",
    "\n",
    "    if i >= batches_cut: break\n",
    "\n",
    "  # printout\n",
    "  if epoch % 5 == 0:\n",
    "    epochs_list.append(epoch)\n",
    "    train_losses.append(bloss/batches_cut)\n",
    "    dev_losses.append(do_loss(Xdev, Ydev).item())\n",
    "    update_plot(f\"epoch: {epoch:3d} | lr: {lr:.2f} | train: {train_losses[-1]:.2f} | dev: {dev_losses[-1]:.2f}\")\n",
    "\n",
    "plt.ioff()"
   ]
  },
  {
   "cell_type": "code",
   "execution_count": 13,
   "metadata": {},
   "outputs": [],
   "source": [
    "# _ = do_plot()"
   ]
  },
  {
   "cell_type": "code",
   "execution_count": 14,
   "metadata": {},
   "outputs": [
    {
     "name": "stdout",
     "output_type": "stream",
     "text": [
      "anueelyn.\n",
      "jamarbi.\n",
      "nehan.\n",
      "shan.\n",
      "silaylen.\n",
      "kemarce.\n",
      "man.\n",
      "epiacelle.\n",
      "jamzi.\n",
      "kence.\n",
      "jordin.\n",
      "kalla.\n",
      "mikhlynn.\n",
      "acvilia.\n",
      "aczalani.\n",
      "nar.\n",
      "tiyan.\n",
      "mar.\n",
      "tal.\n",
      "selvio.\n"
     ]
    }
   ],
   "source": [
    "# sample from the model\n",
    "torch.manual_seed(42)\n",
    "for _ in range(20):\n",
    "    out = []\n",
    "    context = [0] * block_size # initialize with all ...\n",
    "    while True:\n",
    "      inputs = torch.tensor([context])\n",
    "      logits = model(inputs)\n",
    "      probs = logits.softmax(1)\n",
    "      ix = torch.multinomial(probs, num_samples=1).item()\n",
    "      context = context[1:] + [ix]\n",
    "      out.append(ix)\n",
    "      if ix == 0:\n",
    "        break\n",
    "    print(''.join(itos[i] for i in out))"
   ]
  },
  {
   "cell_type": "code",
   "execution_count": 15,
   "metadata": {},
   "outputs": [
    {
     "data": {
      "image/png": "[encoded data removed]",
      "text/plain": [
       "<Figure size 800x800 with 1 Axes>"
      ]
     },
     "metadata": {},
     "output_type": "display_data"
    }
   ],
   "source": [
    "# visualize dimensions 0 and 1 of the embedding matrix C for all characters\n",
    "plt.figure(figsize=(8,8))\n",
    "plt.scatter(C[:,0].data, C[:,2].data, s=200)\n",
    "for i in range(C.shape[0]):\n",
    "    plt.text(C[i,0].item(), C[i,1].item(), itos[i], ha=\"center\", va=\"center\", color='white')\n",
    "plt.grid('minor')\n",
    "plt.show()"
   ]
  },
  {
   "cell_type": "code",
   "execution_count": null,
   "metadata": {},
   "outputs": [],
   "source": []
  },
  {
   "cell_type": "code",
   "execution_count": null,
   "metadata": {},
   "outputs": [],
   "source": []
  }
 ],
 "metadata": {
  "kernelspec": {
   "display_name": "Python 3",
   "language": "python",
   "name": "python3"
  },
  "language_info": {
   "codemirror_mode": {
    "name": "ipython",
    "version": 3
   },
   "file_extension": ".py",
   "mimetype": "text/x-python",
   "name": "python",
   "nbconvert_exporter": "python",
   "pygments_lexer": "ipython3",
   "version": "3.9.19"
  }
 },
 "nbformat": 4,
 "nbformat_minor": 4
}
